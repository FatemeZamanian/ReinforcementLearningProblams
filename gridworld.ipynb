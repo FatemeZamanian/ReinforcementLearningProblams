{
 "cells": [
  {
   "cell_type": "code",
   "execution_count": 15,
   "metadata": {},
   "outputs": [],
   "source": [
    "import numpy as np\n",
    "import matplotlib.pyplot as plt"
   ]
  },
  {
   "cell_type": "code",
   "execution_count": 16,
   "metadata": {},
   "outputs": [],
   "source": [
    "class Environment:\n",
    "    def __init__(self, size=5):\n",
    "        self.size = size\n",
    "        self.grid = np.zeros((size, size))\n",
    "        self.special_states = {(0, 1): ((4, 1), 10), (0, 3): ((2, 3), 5)}\n",
    "\n",
    "    def get_reward(self, state, next_state):\n",
    "        if state in self.special_states:\n",
    "            return self.special_states[state]\n",
    "        elif next_state[0] < 0 or next_state[0] >= self.size or next_state[1] < 0 or next_state[1] >= self.size:\n",
    "            return state, -1\n",
    "        else:\n",
    "            return next_state, 0"
   ]
  },
  {
   "cell_type": "code",
   "execution_count": 17,
   "metadata": {},
   "outputs": [],
   "source": [
    "class Agent:\n",
    "    def __init__(self, environment, discount_factor=0.9):\n",
    "        self.environment = environment\n",
    "        self.discount_factor = discount_factor\n",
    "        self.values = np.zeros_like(environment.grid)\n",
    "        self.possible_actions = [(0, 1), (0, -1), (1, 0), (-1, 0)]  # Right, Left, Down, Up\n",
    "\n",
    "    def bellman_update(self, state):\n",
    "        value = 0\n",
    "        # For each action, calculate the value of the state\n",
    "        for action in self.possible_actions:\n",
    "            # Calculate the next state and the reward\n",
    "            next_state = (state[0] + action[0], state[1] + action[1])\n",
    "            next_state, reward = self.environment.get_reward(state, next_state)\n",
    "            # If the next state is within the grid, calculate the value of the state\n",
    "            if 0 <= next_state[0] < self.environment.size and 0 <= next_state[1] < self.environment.size:\n",
    "                value += 0.25 * (reward + self.discount_factor * self.values[next_state])\n",
    "        return value\n",
    "    \n",
    "\n",
    "    def value_iteration(self, num_iterations=1000):\n",
    "        # Iterate over the states and update the values\n",
    "        for _ in range(num_iterations):\n",
    "            new_values = np.zeros_like(self.values)\n",
    "            # For each state, calculate the value\n",
    "            for i in range(self.environment.size):\n",
    "                for j in range(self.environment.size):\n",
    "                    state = (i, j)\n",
    "                    # Update the value of the state\n",
    "                    new_values[state] = self.bellman_update(state)\n",
    "\n",
    "            self.values = new_values\n",
    "    \n",
    "    def bellman_optimality_update(self, state):\n",
    "        max_value = float('-inf')\n",
    "\n",
    "        for action in self.possible_actions:\n",
    "            next_state = (state[0] + action[0], state[1] + action[1])\n",
    "            next_state, reward = self.environment.get_reward(state, next_state)\n",
    "\n",
    "            if 0 <= next_state[0] < self.environment.size and 0 <= next_state[1] < self.environment.size:\n",
    "                next_value = reward + self.discount_factor * self.values[next_state]\n",
    "                max_value = max(max_value, next_value)\n",
    "\n",
    "        return max_value\n",
    "\n",
    "    def value_iteration_optimality(self, num_iterations=1000):\n",
    "        for _ in range(num_iterations):\n",
    "            new_values = np.zeros_like(self.values)\n",
    "\n",
    "            for i in range(self.environment.size):\n",
    "                for j in range(self.environment.size):\n",
    "                    state = (i, j)\n",
    "                    new_values[state] = self.bellman_optimality_update(state)\n",
    "\n",
    "            self.values = new_values\n",
    "\n",
    "    def plot_values(self):\n",
    "        plt.figure(figsize=(5,5))\n",
    "        plt.imshow(self.values, cmap='hot', interpolation='nearest')\n",
    "        plt.colorbar(label='Value')\n",
    "        plt.title('Final Values of the States')\n",
    "        plt.show()"
   ]
  },
  {
   "cell_type": "code",
   "execution_count": 18,
   "metadata": {},
   "outputs": [
    {
     "name": "stderr",
     "output_type": "stream",
     "text": [
      "/Users/fateme/Library/Python/3.11/lib/python/site-packages/IPython/core/pylabtools.py:152: MatplotlibDeprecationWarning: savefig() got unexpected keyword argument \"orientation\" which is no longer supported as of 3.3 and will become an error two minor releases later\n",
      "  fig.canvas.print_figure(bytes_io, **kw)\n",
      "/Users/fateme/Library/Python/3.11/lib/python/site-packages/IPython/core/pylabtools.py:152: MatplotlibDeprecationWarning: savefig() got unexpected keyword argument \"dpi\" which is no longer supported as of 3.3 and will become an error two minor releases later\n",
      "  fig.canvas.print_figure(bytes_io, **kw)\n",
      "/Users/fateme/Library/Python/3.11/lib/python/site-packages/IPython/core/pylabtools.py:152: MatplotlibDeprecationWarning: savefig() got unexpected keyword argument \"facecolor\" which is no longer supported as of 3.3 and will become an error two minor releases later\n",
      "  fig.canvas.print_figure(bytes_io, **kw)\n",
      "/Users/fateme/Library/Python/3.11/lib/python/site-packages/IPython/core/pylabtools.py:152: MatplotlibDeprecationWarning: savefig() got unexpected keyword argument \"edgecolor\" which is no longer supported as of 3.3 and will become an error two minor releases later\n",
      "  fig.canvas.print_figure(bytes_io, **kw)\n",
      "/Users/fateme/Library/Python/3.11/lib/python/site-packages/IPython/core/pylabtools.py:152: MatplotlibDeprecationWarning: savefig() got unexpected keyword argument \"bbox_inches_restore\" which is no longer supported as of 3.3 and will become an error two minor releases later\n",
      "  fig.canvas.print_figure(bytes_io, **kw)\n"
     ]
    },
    {
     "data": {
      "image/png": "[encoded data removed]",
      "text/plain": [
       "<Figure size 500x500 with 2 Axes>"
      ]
     },
     "metadata": {},
     "output_type": "display_data"
    },
    {
     "name": "stdout",
     "output_type": "stream",
     "text": [
      "[[ 3.3  8.8  4.4  5.3  1.5]\n",
      " [ 1.5  3.   2.3  1.9  0.5]\n",
      " [ 0.1  0.7  0.7  0.4 -0.4]\n",
      " [-1.  -0.4 -0.4 -0.6 -1.2]\n",
      " [-1.9 -1.3 -1.2 -1.4 -2. ]]\n"
     ]
    }
   ],
   "source": [
    "# Create the environment and agent\n",
    "env = Environment()\n",
    "agent = Agent(env)\n",
    "\n",
    "# Perform value iteration\n",
    "agent.value_iteration()\n",
    "agent.plot_values()\n",
    "\n",
    "# Print the final values\n",
    "np.set_printoptions(precision=1, suppress=True)\n",
    "print(agent.values)"
   ]
  },
  {
   "cell_type": "code",
   "execution_count": 19,
   "metadata": {},
   "outputs": [
    {
     "data": {
      "image/png": "[encoded data removed]",
      "text/plain": [
       "<Figure size 500x500 with 2 Axes>"
      ]
     },
     "metadata": {},
     "output_type": "display_data"
    },
    {
     "name": "stdout",
     "output_type": "stream",
     "text": [
      "[[22.  24.4 22.  19.4 17.5]\n",
      " [19.8 22.  19.8 17.8 16. ]\n",
      " [17.8 19.8 17.8 16.  14.4]\n",
      " [16.  17.8 16.  14.4 13. ]\n",
      " [14.4 16.  14.4 13.  11.7]]\n"
     ]
    }
   ],
   "source": [
    "env = Environment()\n",
    "agent = Agent(env)\n",
    "# Perform value iteration with Bellman optimality equation\n",
    "agent.value_iteration_optimality()\n",
    "agent.plot_values()\n",
    "\n",
    "# Print the final values\n",
    "np.set_printoptions(precision=1, suppress=True)\n",
    "print(agent.values)"
   ]
  }
 ],
 "metadata": {
  "kernelspec": {
   "display_name": "Python 3",
   "language": "python",
   "name": "python3"
  },
  "language_info": {
   "codemirror_mode": {
    "name": "ipython",
    "version": 3
   },
   "file_extension": ".py",
   "mimetype": "text/x-python",
   "name": "python",
   "nbconvert_exporter": "python",
   "pygments_lexer": "ipython3",
   "version": "3.11.2"
  }
 },
 "nbformat": 4,
 "nbformat_minor": 2
}
